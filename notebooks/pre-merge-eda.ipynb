{
 "cells": [
  {
   "cell_type": "code",
   "execution_count": 2,
   "metadata": {},
   "outputs": [
    {
     "name": "stdout",
     "output_type": "stream",
     "text": [
      "Intel MKL WARNING: Support of Intel(R) Streaming SIMD Extensions 4.2 (Intel(R) SSE4.2) enabled only processors has been deprecated. Intel oneAPI Math Kernel Library 2025.0 will require Intel(R) Advanced Vector Extensions (Intel(R) AVX) instructions.\n",
      "Intel MKL WARNING: Support of Intel(R) Streaming SIMD Extensions 4.2 (Intel(R) SSE4.2) enabled only processors has been deprecated. Intel oneAPI Math Kernel Library 2025.0 will require Intel(R) Advanced Vector Extensions (Intel(R) AVX) instructions.\n"
     ]
    }
   ],
   "source": [
    "# PreMerge_EDA.ipynb\n",
    "\n",
    "import os\n",
    "import pandas as pd\n",
    "import matplotlib.pyplot as plt\n",
    "import seaborn as sns\n",
    "\n",
    "#–– 1. Setup output folders\n",
    "os.makedirs('../eda/origination', exist_ok=True)\n",
    "os.makedirs('../eda/performance', exist_ok=True)\n",
    "\n",
    "#–– 2. Load all origination & performance Parquets (1999–2024)\n",
    "orig_list = []\n",
    "perf_list = []\n",
    "for year in range(1999, 2025):\n",
    "    o_path = f\"../data/interim/origination_{year}.parquet\"\n",
    "    p_path = f\"../data/interim/performance_{year}.parquet\"\n",
    "    if os.path.exists(o_path):\n",
    "        df_o = pd.read_parquet(o_path)\n",
    "        df_o['orig_year'] = year\n",
    "        orig_list.append(df_o)\n",
    "    if os.path.exists(p_path):\n",
    "        df_p = pd.read_parquet(p_path)\n",
    "        df_p['perf_year'] = year\n",
    "        perf_list.append(df_p)\n",
    "\n",
    "\n",
    "orig_all = pd.concat(orig_list, ignore_index=True)\n",
    "perf_all = pd.concat(perf_list, ignore_index=True)\n",
    "\n"
   ]
  },
  {
   "cell_type": "code",
   "execution_count": 3,
   "metadata": {},
   "outputs": [],
   "source": [
    "#–– 3. Origination: type conversions & cleaning\n",
    "if 'First Payment Date' in orig_all.columns:\n",
    "    orig_all['First Payment Date'] = pd.to_datetime(\n",
    "        orig_all['First Payment Date'], format='%Y%m', errors='coerce'\n",
    "    )\n",
    "numeric_cols = [\n",
    "    'Credit Score',\n",
    "    'Original Combined Loan-to-Value (CLTV)',\n",
    "    'Original Debt-to-Income (DTI) Ratio'\n",
    "]\n",
    "for col in numeric_cols:\n",
    "    if col in orig_all.columns:\n",
    "        orig_all[col] = pd.to_numeric(orig_all[col], errors='coerce')\n",
    "\n",
    "# Rename for ease\n",
    "orig_all.rename(columns={\n",
    "    'Credit Score': 'credit_score',\n",
    "    'Original Combined Loan-to-Value (CLTV)': 'cltv',\n",
    "    'Original Debt-to-Income (DTI) Ratio': 'dti'\n",
    "}, inplace=True)\n",
    "\n",
    "\n"
   ]
  },
  {
   "cell_type": "code",
   "execution_count": 3,
   "metadata": {},
   "outputs": [],
   "source": [
    "#–– 4. Performance: type conversions & cleaning\n",
    "if 'Monthly Reporting Period' in perf_all.columns:\n",
    "    perf_all['Monthly Reporting Period'] = pd.to_datetime(\n",
    "        perf_all['Monthly Reporting Period'], format='%Y%m', errors='coerce'\n",
    "    )\n",
    "perf_all['loan_age'] = pd.to_numeric(perf_all.get('Loan Age'), errors='coerce')\n",
    "perf_all['delinq']   = pd.to_numeric(perf_all.get('Current Loan Delinquency Status'), errors='coerce')\n",
    "perf_all['upb']      = pd.to_numeric(perf_all.get('Current Actual UPB'), errors='coerce')\n",
    "perf_all['zbc']      = pd.to_numeric(perf_all.get('Zero Balance Code'), errors='coerce')"
   ]
  },
  {
   "cell_type": "code",
   "execution_count": 5,
   "metadata": {},
   "outputs": [],
   "source": [
    "#–– 5. Origination EDA\n",
    "\n",
    "# 5.1 Yearly summary stats\n",
    "orig_summary = (\n",
    "    orig_all\n",
    "    .groupby('orig_year')[['credit_score','cltv','dti']]\n",
    "    .agg(['mean','median','count','std','min','max'])\n",
    ")\n",
    "orig_summary.to_csv('../eda/origination/orig_summary_stats_by_year.csv')\n",
    "\n",
    "# 5.2 Trends of means\n",
    "for feat in ['credit_score','cltv','dti']:\n",
    "    plt.figure(figsize=(8,4))\n",
    "    sns.lineplot(\n",
    "        x=orig_summary.index,\n",
    "        y=orig_summary[feat]['mean'],\n",
    "        marker='o'\n",
    "    )\n",
    "    plt.title(f'Mean {feat.upper()} by Origination Year')\n",
    "    plt.xlabel('Year'); plt.ylabel(feat.upper())\n",
    "    plt.tight_layout()\n",
    "    plt.savefig(f'../eda/origination/mean_{feat}_by_year.png')\n",
    "    plt.close()\n",
    "\n",
    "# 5.3 Missingness heatmap\n",
    "miss_year = orig_all.isna().groupby(orig_all['orig_year']).mean().T\n",
    "plt.figure(figsize=(10,6))\n",
    "sns.heatmap(miss_year, cmap='viridis', cbar=True)\n",
    "plt.title('% Missing in Origination Features by Year')\n",
    "plt.xlabel('Year'); plt.ylabel('Feature')\n",
    "plt.tight_layout()\n",
    "plt.savefig('../eda/origination/missingness_by_year.png')\n",
    "plt.close()\n",
    "\n",
    "# 5.4 Yearly distributions for CLTV & DTI\n",
    "for feat in ['cltv','dti']:\n",
    "    g = sns.FacetGrid(orig_all, col='orig_year', col_wrap=6, height=2, sharex=False, sharey=False)\n",
    "    g.map_dataframe(sns.histplot, feat, bins=20)\n",
    "    g.figure.suptitle(f'Distribution of {feat.upper()} by Year', y=1.02)\n",
    "    g.figure.tight_layout()\n",
    "    g.savefig(f'../eda/origination/{feat}_dist_by_year.png')\n",
    "    plt.close()\n",
    "\n"
   ]
  },
  {
   "cell_type": "code",
   "execution_count": 6,
   "metadata": {},
   "outputs": [
    {
     "data": {
      "text/plain": [
       "<Figure size 1000x400 with 0 Axes>"
      ]
     },
     "metadata": {},
     "output_type": "display_data"
    },
    {
     "data": {
      "text/plain": [
       "<Figure size 1000x400 with 0 Axes>"
      ]
     },
     "metadata": {},
     "output_type": "display_data"
    },
    {
     "data": {
      "text/plain": [
       "<Figure size 1000x400 with 0 Axes>"
      ]
     },
     "metadata": {},
     "output_type": "display_data"
    }
   ],
   "source": [
    "# 5.5 Categorical variable frequencies & visualizations\n",
    "cats = ['Occupancy Status','First Time Homebuyer Flag','Loan Purpose']\n",
    "for cat in cats:\n",
    "    if cat in orig_all.columns:\n",
    "        # compute yearly proportions\n",
    "        freq = (orig_all\n",
    "                .groupby('orig_year')[cat]\n",
    "                .value_counts(normalize=True)\n",
    "                .unstack(fill_value=0))\n",
    "        freq.to_csv(f'../eda/origination/{cat.replace(\" \",\"_\")}_freq_by_year.csv')\n",
    "        # plot top categories over time (area chart)\n",
    "        top_n = freq.columns[:5]  # top 5 levels by alphabetical (or adjust)\n",
    "        plt.figure(figsize=(10,4))\n",
    "        freq[top_n].plot.area(alpha=0.6)\n",
    "        plt.title(f'{cat} Proportions by Year')\n",
    "        plt.xlabel('Origination Year'); plt.ylabel('Proportion')\n",
    "        plt.legend(title=cat, bbox_to_anchor=(1.02,1), loc='upper left')\n",
    "        plt.tight_layout()\n",
    "        plt.savefig(f'../eda/origination/{cat.replace(\" \",\"_\")}_by_year.png')\n",
    "        plt.close()\n"
   ]
  },
  {
   "cell_type": "markdown",
   "metadata": {},
   "source": [
    "\n",
    "Loan Purpose Proportions by Year\n",
    "\n",
    "\n",
    "Purchase (“P”) loans dominate by share in almost every vintage—hovering around 50 % in the early 2000’s, dipping in the mid‑2000’s refinance boom, then climbing back to nearly 100 % of originations by 2024 as rates rose.\n",
    "\n",
    "The “N” category (non‑purchase, e.g. cash‑out refinance) surges pre‑crisis (peaking ~60 % around ’08–’12) then fades.\n",
    "\n",
    "The low and shrinking “C” and “9” slices reflect a retreat of certain niche programs or “not‑available” codes.\n",
    "\n",
    "First‑Time Homebuyer Flag by Year\n",
    "\n",
    "\n",
    "The share of first‑time buyers (“Y”) was modest (10–15 %) from 1999 through ~2021, dipped further post‑crisis, then spiked sharply to ~40 % in 2023–24—likely driven by down‑payment assistance and low rate lock‑ins for new buyers.\n",
    "\n",
    "Occupancy Status by Year\n",
    "\n",
    "\n",
    "Primary residence (“P”) consistently makes up ~90–95 % of originations.\n",
    "\n",
    "Investor (“I”) and second‑home (“S”) shares are both quite small (each <10 %) and show only minor year‑to‑year wiggles.\n",
    "\n",
    "Borrower Risk Metrics Over Time\n",
    "\n",
    "\n",
    "Debt‑to‑Income (DTI) Distributions\n",
    "\n",
    "Pre‑crisis (’99–’07) DTI centers around 30–35 % with roughly symmetric spreads.\n",
    "\n",
    "2008–12 shows a tightening: mean DTI falls back toward ~32 %.\n",
    "\n",
    "Post‑2020 distributions steadily shift right—by 2024 the bulk of originations cluster between 35–50 %, indicating looser underwriting on borrower leverage.\n",
    "\n",
    "\n",
    "Loan‑to‑Value (CLTV) Distributions\n",
    "\n",
    "Early CLTV vintages (~’99–’04) concentrate around 75–90 % with a long tail above 100 %.\n",
    "\n",
    "Around 2008–10 CLTV drops sharply (tighter LTV caps), then from 2011–15 it loosens again, with a peak mean CLTV ~79 % in 2012.\n",
    "\n",
    "Recent years (2021–24) settle back in the mid‑70’s but show a modest upward drift.\n",
    "\n",
    "Mean Credit Score\tRises from ~720 (2000) into the 760 + zone in 2010–12, dips into the 745–750 range thereafter, with a slight rebound to ~752 in 2024.\n",
    "\n",
    "\n",
    "Missingness Patterns\n",
    "Most origination fields (FICO score, LTV, DTI, occupancy, loan purpose, etc.) are nearly 100% populated by design. Some fields like “Pre‑HARP indicator” only appear for late‑vintage loans, and servicer/MSA codes have occasional blanks. We’ll drop or impute these very sparse fields, but overall data quality is excellent.\n",
    "\n"
   ]
  },
  {
   "cell_type": "code",
   "execution_count": 7,
   "metadata": {},
   "outputs": [],
   "source": [
    "#–– 6. Performance EDA\n",
    "\n",
    "# 6.1 Yearly summary stats\n",
    "perf_summary = (\n",
    "    perf_all\n",
    "    .groupby('perf_year')\n",
    "    .agg(total_records=('loan_age','size'),\n",
    "         pct_delinquent=('delinq', lambda x: (x>0).mean()),\n",
    "         mean_upb=('upb','mean'))\n",
    ")\n",
    "perf_summary.to_csv('../eda/performance/perf_summary_stats_by_year.csv')\n",
    "\n",
    "# 6.2 Delinquency & UPB trends\n",
    "fig, ax1 = plt.subplots(figsize=(8,4))\n",
    "ax1.plot(perf_summary.index, perf_summary['pct_delinquent']*100, 'r-o')\n",
    "ax1.set_ylabel('% Delinquent', color='r')\n",
    "ax2 = ax1.twinx()\n",
    "ax2.plot(perf_summary.index, perf_summary['mean_upb'], 'b-o')\n",
    "ax2.set_ylabel('Mean UPB', color='b')\n",
    "plt.title('Delinquency Rate & Mean UPB by Performance Year')\n",
    "plt.xlabel('Year')\n",
    "plt.tight_layout()\n",
    "plt.savefig('../eda/performance/delinq_upb_trends.png')\n",
    "plt.close()\n",
    "\n",
    "# 6.3 Loan-age overall distribution\n",
    "plt.figure(figsize=(6,4))\n",
    "sns.histplot(perf_all['loan_age'].dropna(), bins=50)\n",
    "plt.title('Overall Loan Age Distribution (1999–2024)')\n",
    "plt.xlabel('Loan Age (months)'); plt.ylabel('Count')\n",
    "plt.tight_layout()\n",
    "plt.savefig('../eda/performance/loan_age_overall.png')\n",
    "plt.close()\n",
    "\n",
    "\n"
   ]
  },
  {
   "cell_type": "code",
   "execution_count": 4,
   "metadata": {},
   "outputs": [
    {
     "ename": "",
     "evalue": "",
     "output_type": "error",
     "traceback": [
      "\u001b[1;31mThe Kernel crashed while executing code in the current cell or a previous cell. \n",
      "\u001b[1;31mPlease review the code in the cell(s) to identify a possible cause of the failure. \n",
      "\u001b[1;31mClick <a href='https://aka.ms/vscodeJupyterKernelCrash'>here</a> for more info. \n",
      "\u001b[1;31mView Jupyter <a href='command:jupyter.viewOutput'>log</a> for further details."
     ]
    },
    {
     "ename": "KeyboardInterrupt",
     "evalue": "",
     "output_type": "error",
     "traceback": [
      "\u001b[0;31m---------------------------------------------------------------------------\u001b[0m",
      "\u001b[0;31mKeyboardInterrupt\u001b[0m                         Traceback (most recent call last)",
      "Cell \u001b[0;32mIn[4], line 3\u001b[0m\n\u001b[1;32m      1\u001b[0m \u001b[38;5;66;03m# 6.4 Performance missingness heatmap\u001b[39;00m\n\u001b[0;32m----> 3\u001b[0m miss_perf \u001b[38;5;241m=\u001b[39m \u001b[43mperf_all\u001b[49m\u001b[38;5;241;43m.\u001b[39;49m\u001b[43misna\u001b[49m\u001b[43m(\u001b[49m\u001b[43m)\u001b[49m\u001b[38;5;241m.\u001b[39mgroupby(perf_all[\u001b[38;5;124m'\u001b[39m\u001b[38;5;124mperf_year\u001b[39m\u001b[38;5;124m'\u001b[39m])\u001b[38;5;241m.\u001b[39mmean()\u001b[38;5;241m.\u001b[39mT\n\u001b[1;32m      4\u001b[0m plt\u001b[38;5;241m.\u001b[39mfigure(figsize\u001b[38;5;241m=\u001b[39m(\u001b[38;5;241m10\u001b[39m,\u001b[38;5;241m6\u001b[39m))\n\u001b[1;32m      5\u001b[0m sns\u001b[38;5;241m.\u001b[39mheatmap(miss_perf, cmap\u001b[38;5;241m=\u001b[39m\u001b[38;5;124m'\u001b[39m\u001b[38;5;124mmagma\u001b[39m\u001b[38;5;124m'\u001b[39m, cbar\u001b[38;5;241m=\u001b[39m\u001b[38;5;28;01mTrue\u001b[39;00m)\n",
      "File \u001b[0;32m~/opt/anaconda3/envs/DataWrangling/lib/python3.10/site-packages/pandas/core/frame.py:6490\u001b[0m, in \u001b[0;36mDataFrame.isna\u001b[0;34m(self)\u001b[0m\n\u001b[1;32m   6488\u001b[0m \u001b[38;5;129m@doc\u001b[39m(NDFrame\u001b[38;5;241m.\u001b[39misna, klass\u001b[38;5;241m=\u001b[39m_shared_doc_kwargs[\u001b[38;5;124m\"\u001b[39m\u001b[38;5;124mklass\u001b[39m\u001b[38;5;124m\"\u001b[39m])\n\u001b[1;32m   6489\u001b[0m \u001b[38;5;28;01mdef\u001b[39;00m \u001b[38;5;21misna\u001b[39m(\u001b[38;5;28mself\u001b[39m) \u001b[38;5;241m-\u001b[39m\u001b[38;5;241m>\u001b[39m DataFrame:\n\u001b[0;32m-> 6490\u001b[0m     res_mgr \u001b[38;5;241m=\u001b[39m \u001b[38;5;28;43mself\u001b[39;49m\u001b[38;5;241;43m.\u001b[39;49m\u001b[43m_mgr\u001b[49m\u001b[38;5;241;43m.\u001b[39;49m\u001b[43misna\u001b[49m\u001b[43m(\u001b[49m\u001b[43mfunc\u001b[49m\u001b[38;5;241;43m=\u001b[39;49m\u001b[43misna\u001b[49m\u001b[43m)\u001b[49m\n\u001b[1;32m   6491\u001b[0m     result \u001b[38;5;241m=\u001b[39m \u001b[38;5;28mself\u001b[39m\u001b[38;5;241m.\u001b[39m_constructor_from_mgr(res_mgr, axes\u001b[38;5;241m=\u001b[39mres_mgr\u001b[38;5;241m.\u001b[39maxes)\n\u001b[1;32m   6492\u001b[0m     \u001b[38;5;28;01mreturn\u001b[39;00m result\u001b[38;5;241m.\u001b[39m__finalize__(\u001b[38;5;28mself\u001b[39m, method\u001b[38;5;241m=\u001b[39m\u001b[38;5;124m\"\u001b[39m\u001b[38;5;124misna\u001b[39m\u001b[38;5;124m\"\u001b[39m)\n",
      "File \u001b[0;32m~/opt/anaconda3/envs/DataWrangling/lib/python3.10/site-packages/pandas/core/internals/base.py:178\u001b[0m, in \u001b[0;36mDataManager.isna\u001b[0;34m(self, func)\u001b[0m\n\u001b[1;32m    176\u001b[0m \u001b[38;5;129m@final\u001b[39m\n\u001b[1;32m    177\u001b[0m \u001b[38;5;28;01mdef\u001b[39;00m \u001b[38;5;21misna\u001b[39m(\u001b[38;5;28mself\u001b[39m, func) \u001b[38;5;241m-\u001b[39m\u001b[38;5;241m>\u001b[39m Self:\n\u001b[0;32m--> 178\u001b[0m     \u001b[38;5;28;01mreturn\u001b[39;00m \u001b[38;5;28;43mself\u001b[39;49m\u001b[38;5;241;43m.\u001b[39;49m\u001b[43mapply\u001b[49m\u001b[43m(\u001b[49m\u001b[38;5;124;43m\"\u001b[39;49m\u001b[38;5;124;43mapply\u001b[39;49m\u001b[38;5;124;43m\"\u001b[39;49m\u001b[43m,\u001b[49m\u001b[43m \u001b[49m\u001b[43mfunc\u001b[49m\u001b[38;5;241;43m=\u001b[39;49m\u001b[43mfunc\u001b[49m\u001b[43m)\u001b[49m\n",
      "File \u001b[0;32m~/opt/anaconda3/envs/DataWrangling/lib/python3.10/site-packages/pandas/core/internals/managers.py:363\u001b[0m, in \u001b[0;36mBaseBlockManager.apply\u001b[0;34m(self, f, align_keys, **kwargs)\u001b[0m\n\u001b[1;32m    361\u001b[0m         applied \u001b[38;5;241m=\u001b[39m b\u001b[38;5;241m.\u001b[39mapply(f, \u001b[38;5;241m*\u001b[39m\u001b[38;5;241m*\u001b[39mkwargs)\n\u001b[1;32m    362\u001b[0m     \u001b[38;5;28;01melse\u001b[39;00m:\n\u001b[0;32m--> 363\u001b[0m         applied \u001b[38;5;241m=\u001b[39m \u001b[38;5;28;43mgetattr\u001b[39;49m\u001b[43m(\u001b[49m\u001b[43mb\u001b[49m\u001b[43m,\u001b[49m\u001b[43m \u001b[49m\u001b[43mf\u001b[49m\u001b[43m)\u001b[49m\u001b[43m(\u001b[49m\u001b[38;5;241;43m*\u001b[39;49m\u001b[38;5;241;43m*\u001b[39;49m\u001b[43mkwargs\u001b[49m\u001b[43m)\u001b[49m\n\u001b[1;32m    364\u001b[0m     result_blocks \u001b[38;5;241m=\u001b[39m extend_blocks(applied, result_blocks)\n\u001b[1;32m    366\u001b[0m out \u001b[38;5;241m=\u001b[39m \u001b[38;5;28mtype\u001b[39m(\u001b[38;5;28mself\u001b[39m)\u001b[38;5;241m.\u001b[39mfrom_blocks(result_blocks, \u001b[38;5;28mself\u001b[39m\u001b[38;5;241m.\u001b[39maxes)\n",
      "File \u001b[0;32m~/opt/anaconda3/envs/DataWrangling/lib/python3.10/site-packages/pandas/core/internals/blocks.py:393\u001b[0m, in \u001b[0;36mBlock.apply\u001b[0;34m(self, func, **kwargs)\u001b[0m\n\u001b[1;32m    387\u001b[0m \u001b[38;5;129m@final\u001b[39m\n\u001b[1;32m    388\u001b[0m \u001b[38;5;28;01mdef\u001b[39;00m \u001b[38;5;21mapply\u001b[39m(\u001b[38;5;28mself\u001b[39m, func, \u001b[38;5;241m*\u001b[39m\u001b[38;5;241m*\u001b[39mkwargs) \u001b[38;5;241m-\u001b[39m\u001b[38;5;241m>\u001b[39m \u001b[38;5;28mlist\u001b[39m[Block]:\n\u001b[1;32m    389\u001b[0m \u001b[38;5;250m    \u001b[39m\u001b[38;5;124;03m\"\"\"\u001b[39;00m\n\u001b[1;32m    390\u001b[0m \u001b[38;5;124;03m    apply the function to my values; return a block if we are not\u001b[39;00m\n\u001b[1;32m    391\u001b[0m \u001b[38;5;124;03m    one\u001b[39;00m\n\u001b[1;32m    392\u001b[0m \u001b[38;5;124;03m    \"\"\"\u001b[39;00m\n\u001b[0;32m--> 393\u001b[0m     result \u001b[38;5;241m=\u001b[39m \u001b[43mfunc\u001b[49m\u001b[43m(\u001b[49m\u001b[38;5;28;43mself\u001b[39;49m\u001b[38;5;241;43m.\u001b[39;49m\u001b[43mvalues\u001b[49m\u001b[43m,\u001b[49m\u001b[43m \u001b[49m\u001b[38;5;241;43m*\u001b[39;49m\u001b[38;5;241;43m*\u001b[39;49m\u001b[43mkwargs\u001b[49m\u001b[43m)\u001b[49m\n\u001b[1;32m    395\u001b[0m     result \u001b[38;5;241m=\u001b[39m maybe_coerce_values(result)\n\u001b[1;32m    396\u001b[0m     \u001b[38;5;28;01mreturn\u001b[39;00m \u001b[38;5;28mself\u001b[39m\u001b[38;5;241m.\u001b[39m_split_op_result(result)\n",
      "File \u001b[0;32m~/opt/anaconda3/envs/DataWrangling/lib/python3.10/site-packages/pandas/core/dtypes/missing.py:178\u001b[0m, in \u001b[0;36misna\u001b[0;34m(obj)\u001b[0m\n\u001b[1;32m    101\u001b[0m \u001b[38;5;28;01mdef\u001b[39;00m \u001b[38;5;21misna\u001b[39m(obj: \u001b[38;5;28mobject\u001b[39m) \u001b[38;5;241m-\u001b[39m\u001b[38;5;241m>\u001b[39m \u001b[38;5;28mbool\u001b[39m \u001b[38;5;241m|\u001b[39m npt\u001b[38;5;241m.\u001b[39mNDArray[np\u001b[38;5;241m.\u001b[39mbool_] \u001b[38;5;241m|\u001b[39m NDFrame:\n\u001b[1;32m    102\u001b[0m \u001b[38;5;250m    \u001b[39m\u001b[38;5;124;03m\"\"\"\u001b[39;00m\n\u001b[1;32m    103\u001b[0m \u001b[38;5;124;03m    Detect missing values for an array-like object.\u001b[39;00m\n\u001b[1;32m    104\u001b[0m \n\u001b[0;32m   (...)\u001b[0m\n\u001b[1;32m    176\u001b[0m \u001b[38;5;124;03m    Name: 1, dtype: bool\u001b[39;00m\n\u001b[1;32m    177\u001b[0m \u001b[38;5;124;03m    \"\"\"\u001b[39;00m\n\u001b[0;32m--> 178\u001b[0m     \u001b[38;5;28;01mreturn\u001b[39;00m \u001b[43m_isna\u001b[49m\u001b[43m(\u001b[49m\u001b[43mobj\u001b[49m\u001b[43m)\u001b[49m\n",
      "File \u001b[0;32m~/opt/anaconda3/envs/DataWrangling/lib/python3.10/site-packages/pandas/core/dtypes/missing.py:207\u001b[0m, in \u001b[0;36m_isna\u001b[0;34m(obj, inf_as_na)\u001b[0m\n\u001b[1;32m    205\u001b[0m     \u001b[38;5;28;01mreturn\u001b[39;00m \u001b[38;5;28;01mFalse\u001b[39;00m\n\u001b[1;32m    206\u001b[0m \u001b[38;5;28;01melif\u001b[39;00m \u001b[38;5;28misinstance\u001b[39m(obj, (np\u001b[38;5;241m.\u001b[39mndarray, ABCExtensionArray)):\n\u001b[0;32m--> 207\u001b[0m     \u001b[38;5;28;01mreturn\u001b[39;00m \u001b[43m_isna_array\u001b[49m\u001b[43m(\u001b[49m\u001b[43mobj\u001b[49m\u001b[43m,\u001b[49m\u001b[43m \u001b[49m\u001b[43minf_as_na\u001b[49m\u001b[38;5;241;43m=\u001b[39;49m\u001b[43minf_as_na\u001b[49m\u001b[43m)\u001b[49m\n\u001b[1;32m    208\u001b[0m \u001b[38;5;28;01melif\u001b[39;00m \u001b[38;5;28misinstance\u001b[39m(obj, ABCIndex):\n\u001b[1;32m    209\u001b[0m     \u001b[38;5;66;03m# Try to use cached isna, which also short-circuits for integer dtypes\u001b[39;00m\n\u001b[1;32m    210\u001b[0m     \u001b[38;5;66;03m#  and avoids materializing RangeIndex._values\u001b[39;00m\n\u001b[1;32m    211\u001b[0m     \u001b[38;5;28;01mif\u001b[39;00m \u001b[38;5;129;01mnot\u001b[39;00m obj\u001b[38;5;241m.\u001b[39m_can_hold_na:\n",
      "File \u001b[0;32m~/opt/anaconda3/envs/DataWrangling/lib/python3.10/site-packages/pandas/core/dtypes/missing.py:292\u001b[0m, in \u001b[0;36m_isna_array\u001b[0;34m(values, inf_as_na)\u001b[0m\n\u001b[1;32m    290\u001b[0m     result \u001b[38;5;241m=\u001b[39m _isna_recarray_dtype(values, inf_as_na\u001b[38;5;241m=\u001b[39minf_as_na)\n\u001b[1;32m    291\u001b[0m \u001b[38;5;28;01melif\u001b[39;00m is_string_or_object_np_dtype(values\u001b[38;5;241m.\u001b[39mdtype):\n\u001b[0;32m--> 292\u001b[0m     result \u001b[38;5;241m=\u001b[39m \u001b[43m_isna_string_dtype\u001b[49m\u001b[43m(\u001b[49m\u001b[43mvalues\u001b[49m\u001b[43m,\u001b[49m\u001b[43m \u001b[49m\u001b[43minf_as_na\u001b[49m\u001b[38;5;241;43m=\u001b[39;49m\u001b[43minf_as_na\u001b[49m\u001b[43m)\u001b[49m\n\u001b[1;32m    293\u001b[0m \u001b[38;5;28;01melif\u001b[39;00m dtype\u001b[38;5;241m.\u001b[39mkind \u001b[38;5;129;01min\u001b[39;00m \u001b[38;5;124m\"\u001b[39m\u001b[38;5;124mmM\u001b[39m\u001b[38;5;124m\"\u001b[39m:\n\u001b[1;32m    294\u001b[0m     \u001b[38;5;66;03m# this is the NaT pattern\u001b[39;00m\n\u001b[1;32m    295\u001b[0m     result \u001b[38;5;241m=\u001b[39m values\u001b[38;5;241m.\u001b[39mview(\u001b[38;5;124m\"\u001b[39m\u001b[38;5;124mi8\u001b[39m\u001b[38;5;124m\"\u001b[39m) \u001b[38;5;241m==\u001b[39m iNaT\n",
      "File \u001b[0;32m~/opt/anaconda3/envs/DataWrangling/lib/python3.10/site-packages/pandas/core/dtypes/missing.py:313\u001b[0m, in \u001b[0;36m_isna_string_dtype\u001b[0;34m(values, inf_as_na)\u001b[0m\n\u001b[1;32m    311\u001b[0m \u001b[38;5;28;01melse\u001b[39;00m:\n\u001b[1;32m    312\u001b[0m     \u001b[38;5;28;01mif\u001b[39;00m values\u001b[38;5;241m.\u001b[39mndim \u001b[38;5;129;01min\u001b[39;00m {\u001b[38;5;241m1\u001b[39m, \u001b[38;5;241m2\u001b[39m}:\n\u001b[0;32m--> 313\u001b[0m         result \u001b[38;5;241m=\u001b[39m \u001b[43mlibmissing\u001b[49m\u001b[38;5;241;43m.\u001b[39;49m\u001b[43misnaobj\u001b[49m\u001b[43m(\u001b[49m\u001b[43mvalues\u001b[49m\u001b[43m,\u001b[49m\u001b[43m \u001b[49m\u001b[43minf_as_na\u001b[49m\u001b[38;5;241;43m=\u001b[39;49m\u001b[43minf_as_na\u001b[49m\u001b[43m)\u001b[49m\n\u001b[1;32m    314\u001b[0m     \u001b[38;5;28;01melse\u001b[39;00m:\n\u001b[1;32m    315\u001b[0m         \u001b[38;5;66;03m# 0-D, reached via e.g. mask_missing\u001b[39;00m\n\u001b[1;32m    316\u001b[0m         result \u001b[38;5;241m=\u001b[39m libmissing\u001b[38;5;241m.\u001b[39misnaobj(values\u001b[38;5;241m.\u001b[39mravel(), inf_as_na\u001b[38;5;241m=\u001b[39minf_as_na)\n",
      "\u001b[0;31mKeyboardInterrupt\u001b[0m: "
     ]
    }
   ],
   "source": [
    "# 6.4 Performance missingness heatmap\n",
    "\n",
    "miss_perf = perf_all.isna().groupby(perf_all['perf_year']).mean().T\n",
    "plt.figure(figsize=(10,6))\n",
    "sns.heatmap(miss_perf, cmap='magma', cbar=True)\n",
    "plt.title('% Missing in Performance Features by Year')\n",
    "plt.xlabel('Perf Year'); plt.ylabel('Feature')\n",
    "plt.tight_layout()\n",
    "plt.savefig('../eda/performance/missingness_by_year.png')\n",
    "plt.close()"
   ]
  },
  {
   "cell_type": "markdown",
   "metadata": {},
   "source": [
    "Delinquency Status\n",
    "Across the full 1999–2024 period, the vast majority of loan‑months are current (0 months delinquent). Early in a loan’s life we see almost zero serious delinquencies, and even for older vintages the share of 30+ day delinquencies never exceeds a few percent. This long “tail” of current loans and very small fraction of high‑severity delinquencies underscores the extreme class imbalance we’ll face when building our PD models.\n",
    "\n",
    "Loan Age Distribution\n",
    "The overall loan‑age histogram confirms the familiar “seasoning” pattern of a 30‑year mortgage: lots of records in the first few months, gradually tapering off as loans prepay or mature around month 360. This tells us that features tied to loan age (e.g. seasoning effects) will be important in dynamic models, but in a static snapshot we may need to cap or bin age to avoid sparsity at high ages.\n",
    "\n",
    "Delinquency Rate & UPB Trends\n",
    "When we aggregate by calendar year, we observe the late‑2000s housing crisis visibly as a spike in the percentage of delinquent loans and a corresponding dip in average UPB (as many loans defaulted or were extinguished). More recent years show delinquency back near historic lows, while balances continue to climb. These cyclical swings reinforce the need to capture macro or vintage effects in our static PD model, or to drive stress scenarios in a dynamic framework."
   ]
  },
  {
   "cell_type": "code",
   "execution_count": 6,
   "metadata": {},
   "outputs": [
    {
     "data": {
      "text/plain": [
       "<Figure size 800x500 with 0 Axes>"
      ]
     },
     "metadata": {},
     "output_type": "display_data"
    }
   ],
   "source": [
    "#–– 7. Zero Balance Code Analysis\n",
    "# Only final record per loan has ZBC; we'll look at the frequency of termination codes.\n",
    "zbc_counts = perf_all.groupby('perf_year')['zbc'].value_counts(dropna=False).unstack().fillna(0)\n",
    "zbc_counts.to_csv('../eda/performance/zbc_freq_by_year.csv')\n",
    "\n",
    "# Plot overall proportions\n",
    "zbc_props = zbc_counts.div(zbc_counts.sum(axis=1), axis=0)\n",
    "plt.figure(figsize=(8,5))\n",
    "zbc_props[[1, 2,3,9,96]].plot(kind='bar', stacked=True)\n",
    "plt.title('Termination Code Proportions by Performance Year')\n",
    "plt.xlabel('Year'); plt.ylabel('Proportion')\n",
    "plt.tight_layout()\n",
    "plt.savefig('../eda/performance/zbc_proportions_by_year.png')\n",
    "plt.close()\n",
    "\n",
    "#"
   ]
  },
  {
   "cell_type": "code",
   "execution_count": null,
   "metadata": {},
   "outputs": [],
   "source": [
    "# –– 8. Correlation & PCA for origination numeric features\n",
    "# numeric_feats = ['credit_score','cltv','dti','Original UPB','Original Loan Term']\n",
    "# corr = orig_all[numeric_feats].corr()\n",
    "# plt.figure(figsize=(6,5))\n",
    "# sns.heatmap(corr, annot=True, cmap='coolwarm', fmt=\".2f\")\n",
    "# plt.title(\"Correlation Matrix of Origination Numerical Features\")\n",
    "# plt.tight_layout()\n",
    "# plt.savefig('eda/origination/corr_matrix_numeric.png')\n",
    "# plt.close()\n",
    "#\n",
    "# from sklearn.decomposition import PCA\n",
    "# from sklearn.preprocessing import StandardScaler\n",
    "# X = orig_all[numeric_feats].dropna().fillna(0)\n",
    "# X_scaled = StandardScaler().fit_transform(X)\n",
    "# pca = PCA(n_components=5).fit(X_scaled)\n",
    "# print(\"Explained variance by first 5 components:\", pca.explained_variance_ratio_)\n",
    "\n"
   ]
  }
 ],
 "metadata": {
  "kernelspec": {
   "display_name": "DataWrangling",
   "language": "python",
   "name": "python3"
  },
  "language_info": {
   "codemirror_mode": {
    "name": "ipython",
    "version": 3
   },
   "file_extension": ".py",
   "mimetype": "text/x-python",
   "name": "python",
   "nbconvert_exporter": "python",
   "pygments_lexer": "ipython3",
   "version": "3.10.13"
  }
 },
 "nbformat": 4,
 "nbformat_minor": 2
}

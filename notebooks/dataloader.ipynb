{
 "cells": [
  {
   "cell_type": "code",
   "execution_count": null,
   "metadata": {},
   "outputs": [
    {
     "name": "stdout",
     "output_type": "stream",
     "text": [
      "Intel MKL WARNING: Support of Intel(R) Streaming SIMD Extensions 4.2 (Intel(R) SSE4.2) enabled only processors has been deprecated. Intel oneAPI Math Kernel Library 2025.0 will require Intel(R) Advanced Vector Extensions (Intel(R) AVX) instructions.\n",
      "Intel MKL WARNING: Support of Intel(R) Streaming SIMD Extensions 4.2 (Intel(R) SSE4.2) enabled only processors has been deprecated. Intel oneAPI Math Kernel Library 2025.0 will require Intel(R) Advanced Vector Extensions (Intel(R) AVX) instructions.\n",
      "Downloading https://freddiemac.embs.com/FLoan/Data/sample_1999.zip...\n",
      "  Extracting sample_orig_1999.txt to ../data/raw/origination/sample_orig_1999.txt\n",
      "  Extracting sample_svcg_1999.txt to ../data/raw/performance/sample_perf_1999.txt\n",
      "Download and extraction complete.\n"
     ]
    }
   ],
   "source": [
    "# Notebook 1: Data Extraction & Cleaning\n",
    "\n",
    "import os\n",
    "import requests\n",
    "import zipfile\n",
    "import io\n",
    "import getpass\n",
    "import pandas as pd\n",
    "from datetime import datetime\n",
    "\n",
    "# Create directories if not exist\n",
    "os.makedirs('../data/raw/origination', exist_ok=True)\n",
    "os.makedirs('../data/raw/performance', exist_ok=True)\n",
    "os.makedirs('../data/interim', exist_ok=True)\n",
    "\n",
    "# --- 1. Automated login and download ---\n",
    "login_url = \"https://freddiemac.embs.com/FLoan/Data/download2.php\"\n",
    "download_url_template = \"https://freddiemac.embs.com/FLoan/Data/sample_{year}.zip\"\n",
    "\n",
    "# username = input(\"Enter Freddie Mac portal username: \")\n",
    "username = \"bedant.lohanee@gmail.com\"\n",
    "# password = getpass.getpass(\"Enter password: \")\n",
    "password = \"GnyNpt<8\"\n",
    "credentials = {\"username\": username, \"password\": password}\n",
    "\n",
    "session = requests.Session()\n",
    "resp = session.post(login_url, data=credentials)\n",
    "resp.raise_for_status()\n",
    "if \"Login Failed\" in resp.text:\n",
    "    raise Exception(\"Login failed — check your credentials\")\n",
    "\n",
    "for year in range(1999, 2000):\n",
    "    url = download_url_template.format(year=year)\n",
    "    print(f\"Downloading {url}...\")\n",
    "    resp = session.get(url)\n",
    "    if resp.status_code == 200:\n",
    "        # Extract ZIP content\n",
    "        z = zipfile.ZipFile(io.BytesIO(resp.content))\n",
    "        for member in z.namelist():\n",
    "            if member.endswith('.txt'):\n",
    "                # Determine destination path based on file name\n",
    "                if 'orig' in member.lower():\n",
    "                    outpath = f\"../data/raw/origination/sample_orig_{year}.txt\"\n",
    "                else:\n",
    "                    outpath = f\"../data/raw/performance/sample_perf_{year}.txt\"\n",
    "                print(f\"  Extracting {member} to {outpath}\")\n",
    "                # Extract into a temp folder and then rename\n",
    "                z.extract(member, path=\"../data/raw\")\n",
    "                os.rename(os.path.join(\"../data/raw\", member), outpath)\n",
    "    else:\n",
    "        print(f\"Failed to download year {year}: HTTP {resp.status_code}\")\n",
    "        # continue to next year if file not found\n",
    "\n",
    "print(\"Download and extraction complete.\")\n"
   ]
  }
 ],
 "metadata": {
  "kernelspec": {
   "display_name": "DataWrangling",
   "language": "python",
   "name": "python3"
  },
  "language_info": {
   "codemirror_mode": {
    "name": "ipython",
    "version": 3
   },
   "file_extension": ".py",
   "mimetype": "text/x-python",
   "name": "python",
   "nbconvert_exporter": "python",
   "pygments_lexer": "ipython3",
   "version": "3.10.13"
  }
 },
 "nbformat": 4,
 "nbformat_minor": 2
}

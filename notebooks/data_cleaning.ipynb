{
 "cells": [
  {
   "cell_type": "code",
   "execution_count": null,
   "metadata": {},
   "outputs": [
    {
     "name": "stdout",
     "output_type": "stream",
     "text": [
      "orig cols=['Credit Score', 'First Payment Date', 'First Time Homebuyer Flag', 'Maturity Date', 'Metropolitan Statistical Area (MSA) Or Metropolitan Division', 'Mortgage Insurance Percentage (MI %)', 'Number of Units', 'Occupancy Status', 'Original Combined Loan-to-Value (CLTV)', 'Original Debt-to-Income (DTI) Ratio', 'Original UPB', 'Original Loan-to-Value (LTV)', 'Original Interest Rate', 'Channel', 'Prepayment Penalty Mortgage (PPM) Flag', 'Amortization Type (Formerly Product Type)', 'Property State', 'Property Type', 'Postal Code', 'Loan Sequence Number', 'Loan Purpose', 'Original Loan Term', 'Number of Borrowers', 'Seller Name', 'Servicer Name', 'Super Conforming Flag', 'Pre-HARP Loan Sequence Number', 'Program Indicator', 'HARP Indicator', 'Property Valuation Method', 'Interest Only (I/O) Indicator', 'Mortgage Insurance Cancellation Indicator']\n",
      "perf cols=['Loan Sequence Number', 'Monthly Reporting Period', 'Current Actual UPB', 'Current Loan Delinquency Status', 'Loan Age', 'Remaining Months to Legal Maturity', 'Defect Settlement Date', 'Modification Flag', 'Zero Balance Code', 'Zero Balance Effective Date', 'Current Interest Rate', 'Current Deferred UPB', 'Due Date of Last Paid Installment (DDLPI)', 'MI Recoveries', 'Net Sales Proceeds', 'Non MI Recoveries', 'Expenses', 'Legal Costs', 'Maintenance and Preservation Costs', 'Taxes and Insurance', 'Miscellaneous Expenses', 'Actual Loss Calculation', 'Modification Cost', 'Step Modification Flag', 'Deferred Payment Plan', 'Estimated Loan-to-Value (ELTV)', 'Zero Balance Removal UPB', 'Delinquent Accrued Interest', 'Delinquency Due to Disaster', 'Borrower Assistance Status Code', 'Current Month Modification Cost', 'Interest Bearing UPB']\n",
      "orig cols=32\n",
      "perf cols=32\n"
     ]
    }
   ],
   "source": [
    "# Notebook 2: Data Cleaning\n",
    "\n",
    "import os\n",
    "import pandas as pd\n",
    "\n",
    "\n",
    "# --- 2. Load raw files and clean ---\n",
    "# Load the layout for column names\n",
    "orig_layout = pd.read_excel('../data/file_layout.xlsx', sheet_name='Origination Data File', skiprows=1)\n",
    "perf_layout = pd.read_excel('../data/file_layout.xlsx', sheet_name='Monthly Performance Data File', skiprows=1)\n",
    "orig_cols = orig_layout['ATTRIBUTE NAME'].tolist()\n",
    "perf_cols = perf_layout['ATTRIBUTE NAME'].tolist()\n",
    "print(f\"orig cols={orig_cols}\")\n",
    "print(f\"perf cols={perf_cols}\")\n",
    "print(f\"orig cols={len(orig_cols)}\")\n",
    "print(f\"perf cols={len(perf_cols)}\")\n",
    "\n"
   ]
  },
  {
   "cell_type": "code",
   "execution_count": 8,
   "metadata": {},
   "outputs": [
    {
     "name": "stdout",
     "output_type": "stream",
     "text": [
      "Year 1999 cleaned and saved.\n",
      "Year 2000 cleaned and saved.\n",
      "Year 2001 cleaned and saved.\n",
      "Year 2002 cleaned and saved.\n",
      "Year 2003 cleaned and saved.\n",
      "Year 2004 cleaned and saved.\n",
      "Year 2005 cleaned and saved.\n",
      "Year 2006 cleaned and saved.\n",
      "Year 2007 cleaned and saved.\n",
      "Year 2008 cleaned and saved.\n",
      "Year 2009 cleaned and saved.\n",
      "Year 2010 cleaned and saved.\n",
      "Year 2011 cleaned and saved.\n",
      "Year 2012 cleaned and saved.\n",
      "Year 2013 cleaned and saved.\n",
      "Year 2014 cleaned and saved.\n",
      "Year 2015 cleaned and saved.\n",
      "Year 2016 cleaned and saved.\n",
      "Year 2017 cleaned and saved.\n",
      "Year 2018 cleaned and saved.\n",
      "Year 2019 cleaned and saved.\n",
      "Year 2020 cleaned and saved.\n",
      "Year 2021 cleaned and saved.\n",
      "Year 2022 cleaned and saved.\n",
      "Year 2023 cleaned and saved.\n",
      "Year 2024 cleaned and saved.\n"
     ]
    }
   ],
   "source": [
    "for year in range(1999, 2025):\n",
    "    # Paths to raw txt files\n",
    "    orig_path = f\"../data/raw/origination/sample_orig_{year}.txt\"\n",
    "    perf_path = f\"../data/raw/performance/sample_perf_{year}.txt\"\n",
    "    if not os.path.exists(orig_path) or not os.path.exists(perf_path):\n",
    "        continue  # Skip if files not present\n",
    "\n",
    "    # Read as strings to apply cleaning\n",
    "    orig_df = pd.read_csv(orig_path, sep='|', names=orig_cols, dtype=str, low_memory=False)\n",
    "    perf_df = pd.read_csv(perf_path, sep='|', names=perf_cols, dtype=str, low_memory=False)\n",
    "\n",
    "    # Trim whitespace for all string columns\n",
    "    orig_df = orig_df.apply(lambda col: col.str.strip() if col.dtype == \"object\" else col)\n",
    "    perf_df = perf_df.apply(lambda col: col.str.strip() if col.dtype == \"object\" else col)\n",
    "    # # print(perf_df.head())\n",
    "    # print(perf_df.columns)\n",
    "\n",
    "    # Convert numeric fields and handle special codes\n",
    "    # Example: Credit Score (9999 -> NaN) and DTI (999 -> NaN)\n",
    "    orig_df['Credit Score'] = pd.to_numeric(orig_df['Credit Score'], errors='coerce')\n",
    "    orig_df.loc[orig_df['Credit Score'] == 9999, 'Credit Score'] = pd.NA  # 9999 = Not Available:contentReference[oaicite:4]{index=4}\n",
    "\n",
    "    orig_df['Original Combined Loan-to-Value (CLTV)'] = pd.to_numeric(orig_df['Original Combined Loan-to-Value (CLTV)'], errors='coerce')\n",
    "    orig_df.loc[orig_df['Original Combined Loan-to-Value (CLTV)'] == 999, 'Original Combined Loan-to-Value (CLTV)'] = pd.NA  # 999 = NA:contentReference[oaicite:5]{index=5}\n",
    "\n",
    "    orig_df['Original Debt-to-Income (DTI) Ratio'] = pd.to_numeric(orig_df['Original Debt-to-Income (DTI) Ratio'], errors='coerce')\n",
    "    orig_df.loc[orig_df['Original Debt-to-Income (DTI) Ratio'] == 999, 'Original Debt-to-Income (DTI) Ratio'] = pd.NA  # 999 = NA:contentReference[oaicite:6]{index=6}\n",
    "\n",
    "    # Parse date fields (YYYYMM)\n",
    "    for date_col in ['First Payment Date', 'Maturity Date']:\n",
    "        orig_df[date_col] = pd.to_datetime(orig_df[date_col], format='%Y%m', errors='coerce')\n",
    "\n",
    "    # Performance data cleaning\n",
    "    # Convert numeric\n",
    "    perf_df['Loan Age'] = pd.to_numeric(perf_df['Loan Age'], errors='coerce')\n",
    "    perf_df['Current Actual UPB'] = pd.to_numeric(perf_df['Current Actual UPB'], errors='coerce')\n",
    "    perf_df['Current Loan Delinquency Status'] = pd.to_numeric(perf_df['Current Loan Delinquency Status'], errors='coerce')\n",
    "    perf_df['Zero Balance Code'] = pd.to_numeric(perf_df['Zero Balance Code'], errors='coerce')\n",
    "    perf_df['Zero Balance Effective Date'] = pd.to_numeric(perf_df['Zero Balance Effective Date'], errors='coerce')\n",
    "    perf_df['Zero Balance Effective Date'] = pd.to_datetime(perf_df['Zero Balance Effective Date'], format='%Y%m', errors='coerce')\n",
    "    perf_df['Monthly Reporting Period'] = pd.to_datetime(perf_df['Monthly Reporting Period'], format='%Y%m', errors='coerce')\n",
    "\n",
    "    # Handle flags in orig: '9' -> NaN\n",
    "    orig_df['First Time Homebuyer Flag'] = orig_df['First Time Homebuyer Flag'].replace({'9': pd.NA})\n",
    "    orig_df['Occupancy Status'] = orig_df['Occupancy Status'].replace({'9': pd.NA})\n",
    "    orig_df['Loan Purpose'] = orig_df['Loan Purpose'].replace({'Z': pd.NA})  # if 'Z' indicates NA in loan purpose\n",
    "\n",
    "    # Save cleaned data to interim (Parquet format)\n",
    "    orig_df.to_parquet(f\"../data/interim/origination_{year}.parquet\", index=False)\n",
    "    perf_df.to_parquet(f\"../data/interim/performance_{year}.parquet\", index=False)\n",
    "    print(f\"Year {year} cleaned and saved.\")"
   ]
  }
 ],
 "metadata": {
  "kernelspec": {
   "display_name": "DataWrangling",
   "language": "python",
   "name": "python3"
  },
  "language_info": {
   "codemirror_mode": {
    "name": "ipython",
    "version": 3
   },
   "file_extension": ".py",
   "mimetype": "text/x-python",
   "name": "python",
   "nbconvert_exporter": "python",
   "pygments_lexer": "ipython3",
   "version": "3.10.13"
  }
 },
 "nbformat": 4,
 "nbformat_minor": 2
}
